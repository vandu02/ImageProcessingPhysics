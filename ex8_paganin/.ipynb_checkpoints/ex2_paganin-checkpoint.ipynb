{
 "cells": [
  {
   "cell_type": "markdown",
   "metadata": {},
   "source": [
    "10.01.2021\n",
    "\n",
    "### Image Processing in Physics\n",
    "#### Julia Herzen, Klaus Achterhold, Clemens Schmid, Manuel Schultheiss\n",
    "\n",
    "# Exercise 2: Phase retrieval with Paganin's algorithm\n",
    "\n",
    "Recover the projected thickness of a teflon plate quantitatively\n",
    "from its intensity measurement in the near-field. We assume a single material, so we can apply [Paganin's algorithm](https://onlinelibrary.wiley.com/doi/abs/10.1046/j.1365-2818.2002.01010.x)."
   ]
  },
  {
   "cell_type": "code",
   "execution_count": 2,
   "metadata": {},
   "outputs": [],
   "source": [
    "import numpy as np\n",
    "import matplotlib.pyplot as plt\n",
    "\n",
    "%matplotlib notebook\n",
    "plt.rcParams[\"image.cmap\"] = \"gray\"\n",
    "plt.rcParams[\"image.interpolation\"] = \"none\""
   ]
  },
  {
   "cell_type": "markdown",
   "metadata": {},
   "source": [
    "Load projection data from file. It is an X-ray projection image of a $250\\,\\mathrm{\\mu m}$ thick Teflon plate."
   ]
  },
  {
   "cell_type": "code",
   "execution_count": null,
   "metadata": {},
   "outputs": [],
   "source": [
    "proj = np.load(\"proj.npy\")"
   ]
  },
  {
   "cell_type": "markdown",
   "metadata": {},
   "source": [
    "Look at the data.\n",
    "* You can see the edge-enhanced borders at the transition from Teflon to air.\n",
    "* In addition, the absorbing properties of the Teflon plate are visible.\n",
    "* Note that the background-values are around 1: The intensity given here is given relative to the intensity without the sample (the so-called 'flat-field image') -- it is thus a _relative_ intensity."
   ]
  },
  {
   "cell_type": "code",
   "execution_count": null,
   "metadata": {},
   "outputs": [],
   "source": [
    "plt.figure()\n",
    "plt.title('Relative intensity')\n",
    "plt.imshow(proj)\n",
    "plt.colorbar()"
   ]
  },
  {
   "cell_type": "markdown",
   "metadata": {},
   "source": [
    "Plot a horizontal line profile of the object near the center of the image and an averaged line profile over all rows."
   ]
  },
  {
   "cell_type": "code",
   "execution_count": null,
   "metadata": {},
   "outputs": [],
   "source": [
    "plt.figure()\n",
    "plt.plot(???)\n",
    "plt.plot(???)"
   ]
  },
  {
   "cell_type": "markdown",
   "metadata": {},
   "source": [
    "The parameters of the setup that influence the image formation process are specified below.\n",
    "* ``pixel_size`` is the edge length of a single pixel of the used X-ray detector.\n",
    "* ``distance`` is the distance between the imaged sample and the detector.\n",
    "\n",
    "Both quantities are given in meters."
   ]
  },
  {
   "cell_type": "code",
   "execution_count": null,
   "metadata": {},
   "outputs": [],
   "source": [
    "pixel_size = .964e-6  # m\n",
    "distance = 8.57e-3    # m"
   ]
  },
  {
   "cell_type": "markdown",
   "metadata": {},
   "source": [
    "Paganin's algorithm assumes that the imaged object consists of a single material \n",
    "with a known ratio of the real and imaginary components of the index of refraction.\n",
    "For X-ray energies, a material's index of refraction is typically written as\n",
    "\n",
    "$$ n = 1 - \\delta + i \\beta .$$\n",
    "\n",
    "We thus look up $\\delta$ and $\\beta$ in a database. Instead of $\\beta$ however, we use\n",
    "the linear attenuation coefficient $\\mu=4 \\pi \\beta / \\lambda$, with $\\lambda$ the\n",
    "wavelength of the X-rays.\n",
    "\n",
    "See for example: http://purple.ipmt-hpm.ac.ru/xcalc/xcalc_mysql/ref_index.php.\n",
    "The chemical formula for Teflon is (C<sub>2</sub>F<sub>4</sub>)<sub>n</sub>.\n",
    "\n",
    "Note that $\\delta$ and $\\beta$ depend on photon energy (dispersion!) and the used values must match\n",
    "the X-ray wavelength used in the experiment!"
   ]
  },
  {
   "cell_type": "code",
   "execution_count": null,
   "metadata": {},
   "outputs": [],
   "source": [
    "mu = 691.\n",
    "delta = 2.6e-6"
   ]
  },
  {
   "cell_type": "markdown",
   "metadata": {},
   "source": [
    "The spatial frequencies / wavenumbers $\\vec{k}_\\perp$=``(kx,ky)``\n",
    "that correspond to the different parts of the Fourier image\n",
    "are provided for you according to our conventions:"
   ]
  },
  {
   "cell_type": "code",
   "execution_count": null,
   "metadata": {},
   "outputs": [],
   "source": [
    "v = 2. * np.pi * np.fft.fftfreq(proj.shape[0], d=pixel_size)\n",
    "u = 2. * np.pi * np.fft.fftfreq(proj.shape[1], d=pixel_size)\n",
    "ky, kx = np.meshgrid(v, u, indexing='ij')"
   ]
  },
  {
   "cell_type": "markdown",
   "metadata": {},
   "source": [
    "Build the Paganin kernel. Its representation was discussed in the lecture."
   ]
  },
  {
   "cell_type": "code",
   "execution_count": null,
   "metadata": {},
   "outputs": [],
   "source": [
    "paganin = ???"
   ]
  },
  {
   "cell_type": "markdown",
   "metadata": {},
   "source": [
    "Recover the thickness from the projection by applying the Paganin kernel onto\n",
    "the intensity measurement. The result is given in meters."
   ]
  },
  {
   "cell_type": "code",
   "execution_count": null,
   "metadata": {},
   "outputs": [],
   "source": [
    "thickness_map = ???"
   ]
  },
  {
   "cell_type": "markdown",
   "metadata": {},
   "source": [
    "Plot the recovered thickness of the sample in microns.\n",
    "Also plot a line through the center row of the trace.\n",
    "\n",
    "Check if the retrieved thickness matches the stated\n",
    "thickness in the beginning of our exercise."
   ]
  },
  {
   "cell_type": "code",
   "execution_count": null,
   "metadata": {},
   "outputs": [],
   "source": [
    "plt.figure()\n",
    "plt.subplot(121)\n",
    "plt.title(r'Thickness [$\\mu m$]')\n",
    "plt.imshow(???)\n",
    "plt.colorbar()\n",
    "plt.subplot(122)\n",
    "plt.title(r'Thickness [$\\mu m$]')\n",
    "plt.plot(???)"
   ]
  }
 ],
 "metadata": {
  "kernelspec": {
   "display_name": "Python 3",
   "language": "python",
   "name": "python3"
  },
  "language_info": {
   "codemirror_mode": {
    "name": "ipython",
    "version": 3
   },
   "file_extension": ".py",
   "mimetype": "text/x-python",
   "name": "python",
   "nbconvert_exporter": "python",
   "pygments_lexer": "ipython3",
   "version": "3.8.8"
  }
 },
 "nbformat": 4,
 "nbformat_minor": 2
}
