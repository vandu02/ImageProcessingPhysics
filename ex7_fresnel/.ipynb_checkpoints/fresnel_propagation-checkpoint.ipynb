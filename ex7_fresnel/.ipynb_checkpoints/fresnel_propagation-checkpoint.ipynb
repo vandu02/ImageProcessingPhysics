{
 "cells": [
  {
   "cell_type": "markdown",
   "metadata": {},
   "source": [
    "20.12.2020\n",
    "\n",
    "### Image Processing in Physics\n",
    "#### Julia Herzen, Klaus Achterhold, Clemens Schmid, Manuel Schultheiss\n",
    "\n",
    "# Exercise 7: Fresnel propagation\n",
    "\n",
    "Perform near-field wavefront propagation.\n",
    "Check your Figures against the lecture notes!"
   ]
  },
  {
   "cell_type": "code",
   "execution_count": 1,
   "metadata": {},
   "outputs": [],
   "source": [
    "import numpy as np\n",
    "import matplotlib.pyplot as plt\n",
    "\n",
    "%matplotlib notebook\n",
    "plt.rcParams[\"image.cmap\"] = \"gray\"\n",
    "plt.rcParams[\"image.interpolation\"] = \"none\""
   ]
  },
  {
   "cell_type": "markdown",
   "metadata": {},
   "source": [
    "The problem: We apply a monochromatic plane wave to an object with a\n",
    "complex-valued amplitude transmission function.\n",
    "We then calculate what the \"shadow\" of the object looks like\n",
    "at certain downstream distances.\n",
    "\n",
    "Note: In this case, the TUM logo is not only changing the amplitude (pinhole),\n",
    "but also the phase (e.g. like a piece of glass). \n",
    "\n",
    "![title](geometry_fresnel.png)"
   ]
  },
  {
   "cell_type": "markdown",
   "metadata": {},
   "source": [
    "Parameters:"
   ]
  },
  {
   "cell_type": "code",
   "execution_count": 2,
   "metadata": {},
   "outputs": [],
   "source": [
    "psize = 10e-6     # Detector pixel size: 10 micrometer\n",
    "wlen = 600e-9     # Wavelength: 600 nm (= visible light)\n",
    "prop_dist = 3e-3  # Propagation distance: 3 mm"
   ]
  },
  {
   "cell_type": "markdown",
   "metadata": {},
   "source": [
    "## A) Create the wavefield at $z=0$\n",
    "\n",
    "Read in test wavefield from image:"
   ]
  },
  {
   "cell_type": "code",
   "execution_count": 3,
   "metadata": {},
   "outputs": [],
   "source": [
    "img = plt.imread('tum.png')"
   ]
  },
  {
   "cell_type": "markdown",
   "metadata": {},
   "source": [
    "Sum/mean the color channels and scale to $[0, 1]$."
   ]
  },
  {
   "cell_type": "code",
   "execution_count": null,
   "metadata": {},
   "outputs": [],
   "source": [
    "img = img.mean(-1)."
   ]
  },
  {
   "cell_type": "markdown",
   "metadata": {},
   "source": [
    "Look at the image. We will use it to create different wavefronts at $z = 0$."
   ]
  },
  {
   "cell_type": "code",
   "execution_count": null,
   "metadata": {},
   "outputs": [],
   "source": [
    "plt.figure()\n",
    "plt.imshow(img)\n",
    "plt.title(\"Original image\")\n",
    "plt.colorbar()"
   ]
  },
  {
   "cell_type": "markdown",
   "metadata": {},
   "source": [
    "Generate a **pure phase wavefield** from `img`, spanning from $0$ to $\\pi$.\n",
    "\n",
    "I.e.: the nonzero parts of ``img`` should apply a phase shift of $\\pi$,\n",
    "the remaining part of the image should apply no phase shift.\n",
    "\n",
    "The absolute value (magnitude) of the phase field you create should be $1$,\n",
    "meaning that no part of `img` attenuates the beam."
   ]
  },
  {
   "cell_type": "code",
   "execution_count": null,
   "metadata": {},
   "outputs": [],
   "source": [
    "w = ???"
   ]
  },
  {
   "cell_type": "markdown",
   "metadata": {},
   "source": [
    "Have a look at the phase and magnitude of `w`:"
   ]
  },
  {
   "cell_type": "code",
   "execution_count": null,
   "metadata": {
    "scrolled": false
   },
   "outputs": [],
   "source": [
    "plt.figure()\n",
    "plt.subplot(121)\n",
    "plt.title('Wavefront phase')\n",
    "plt.imshow(np.angle(w), cmap='jet')\n",
    "plt.colorbar(orientation=\"horizontal\")\n",
    "plt.subplot(122)\n",
    "plt.title('Wavefront magnitude')\n",
    "plt.imshow(np.abs(w), cmap='jet', vmin=.9, vmax=1.1)\n",
    "plt.colorbar(orientation=\"horizontal\")"
   ]
  },
  {
   "cell_type": "markdown",
   "metadata": {},
   "source": [
    "## B) Generate the Fresnel kernel\n",
    "\n",
    "Generate grids for Fourier-domain kernel:"
   ]
  },
  {
   "cell_type": "code",
   "execution_count": null,
   "metadata": {},
   "outputs": [],
   "source": [
    "u = 2. * np.pi * np.fft.fftfreq(img.shape[1], psize)\n",
    "v = 2. * np.pi * np.fft.fftfreq(img.shape[0], psize)\n",
    "\n",
    "uu, vv = np.meshgrid(u, v, indexing='xy')"
   ]
  },
  {
   "cell_type": "markdown",
   "metadata": {},
   "source": [
    "Calculate the wave number:"
   ]
  },
  {
   "cell_type": "code",
   "execution_count": null,
   "metadata": {},
   "outputs": [],
   "source": [
    "k = ???"
   ]
  },
  {
   "cell_type": "markdown",
   "metadata": {},
   "source": [
    "Generate the kernel:"
   ]
  },
  {
   "cell_type": "code",
   "execution_count": null,
   "metadata": {},
   "outputs": [],
   "source": [
    "kernel = ???"
   ]
  },
  {
   "cell_type": "markdown",
   "metadata": {},
   "source": [
    "## C) Calculate and examine the near-field diffraction pattern\n",
    "\n",
    "Calculate the propagated wave array:"
   ]
  },
  {
   "cell_type": "code",
   "execution_count": null,
   "metadata": {},
   "outputs": [],
   "source": [
    "out = ???"
   ]
  },
  {
   "cell_type": "markdown",
   "metadata": {},
   "source": [
    "Plot the phase of the kernel. We use the periodic colormap `hsv` to have a continuous transition from $-\\pi$ to $\\pi$."
   ]
  },
  {
   "cell_type": "code",
   "execution_count": null,
   "metadata": {},
   "outputs": [],
   "source": [
    "plt.figure()\n",
    "plt.imshow(???, cmap='hsv')\n",
    "plt.title('Fresnel kernel')\n",
    "plt.colorbar()"
   ]
  },
  {
   "cell_type": "markdown",
   "metadata": {},
   "source": [
    "Calculate the intensity from the propagated wave array:"
   ]
  },
  {
   "cell_type": "code",
   "execution_count": null,
   "metadata": {},
   "outputs": [],
   "source": [
    "I = ???"
   ]
  },
  {
   "cell_type": "markdown",
   "metadata": {},
   "source": [
    "Plot the propagated intensity (zoomed in to the center of the image):"
   ]
  },
  {
   "cell_type": "code",
   "execution_count": null,
   "metadata": {},
   "outputs": [],
   "source": [
    "plt.figure()\n",
    "plt.imshow(I[256:768,256:768])\n",
    "plt.title('Intensity')\n",
    "plt.colorbar()"
   ]
  },
  {
   "cell_type": "markdown",
   "metadata": {},
   "source": [
    "## D) Calculate near field for pure amplitude and mixed amplitude-phase object\n",
    "\n",
    "Now we want to compute the near-field pattern for a purely absorbing object and a object with both amplitude and phase. \n",
    "\n",
    "First, generate the pure amplitude wavefront. We want magnitude $1$ where the TUM logo is, $0$ everywhere else."
   ]
  },
  {
   "cell_type": "code",
   "execution_count": null,
   "metadata": {},
   "outputs": [],
   "source": [
    "w_mag = ???"
   ]
  },
  {
   "cell_type": "markdown",
   "metadata": {},
   "source": [
    "Additionally, generate a wavefront with both intensity and phase modulated. We want you to combine the effects of the two previous wavefronts."
   ]
  },
  {
   "cell_type": "code",
   "execution_count": null,
   "metadata": {},
   "outputs": [],
   "source": [
    "w_mag_phase = ???"
   ]
  },
  {
   "cell_type": "markdown",
   "metadata": {},
   "source": [
    "Visualize phase and magnitude of the new wave fields."
   ]
  },
  {
   "cell_type": "code",
   "execution_count": null,
   "metadata": {},
   "outputs": [],
   "source": [
    "plt.figure()\n",
    "plt.subplot(221)\n",
    "plt.title('Wavefront phase')\n",
    "plt.imshow(np.angle(w_mag), cmap='jet')\n",
    "plt.colorbar()\n",
    "plt.ylabel(\"Pure magnitude\")\n",
    "plt.subplot(222)\n",
    "plt.title('Wavefront magnitude')\n",
    "plt.imshow(np.abs(w_mag), cmap='jet')\n",
    "plt.colorbar()\n",
    "plt.subplot(223)\n",
    "plt.title('Wavefront phase')\n",
    "plt.imshow(np.angle(w_mag_phase), cmap='jet')\n",
    "plt.colorbar()\n",
    "plt.ylabel(\"Mixed\")\n",
    "plt.subplot(224)\n",
    "plt.title('Wavefront magnitude')\n",
    "plt.imshow(np.abs(w_mag_phase), cmap='jet')\n",
    "plt.colorbar()\n",
    "plt.tight_layout()"
   ]
  },
  {
   "cell_type": "markdown",
   "metadata": {},
   "source": [
    "Apply Fresnel propagation by using the propagation kernel on the new wavefronts."
   ]
  },
  {
   "cell_type": "code",
   "execution_count": null,
   "metadata": {},
   "outputs": [],
   "source": [
    "out_mag = ???\n",
    "out_mag_phase = ???\n",
    "\n",
    "I_mag = ???\n",
    "I_mag_phase = ???"
   ]
  },
  {
   "cell_type": "markdown",
   "metadata": {},
   "source": [
    "Visualize the intensity of the propagated wavefronts. \n",
    "\n",
    "We see that also a pure magnitude waveform creates an interference pattern. For mixed magnitude/phase, it's a combination of both."
   ]
  },
  {
   "cell_type": "code",
   "execution_count": null,
   "metadata": {},
   "outputs": [],
   "source": [
    "plt.figure()\n",
    "plt.subplot(121)\n",
    "plt.imshow(I_mag[256:768,256:768], vmax=1.8)\n",
    "plt.title('Magnitude')\n",
    "plt.colorbar(orientation=\"horizontal\")\n",
    "plt.subplot(122)\n",
    "plt.imshow(I_mag_phase[256:768,256:768], vmax=1.8)\n",
    "plt.title('Magnitude & Phase')\n",
    "plt.colorbar(orientation=\"horizontal\")"
   ]
  },
  {
   "cell_type": "markdown",
   "metadata": {},
   "source": [
    "## E) Try other propagation distances\n",
    "\n",
    "Finally, we propagate the original pure-phase wavefront for two larger distances."
   ]
  },
  {
   "cell_type": "code",
   "execution_count": null,
   "metadata": {},
   "outputs": [],
   "source": [
    "prop_dist_medium = 1e-1  # 10 cm\n",
    "prop_dist_large = 1e1    # 10 m"
   ]
  },
  {
   "cell_type": "markdown",
   "metadata": {},
   "source": [
    "Compute the kernels for the new distances."
   ]
  },
  {
   "cell_type": "code",
   "execution_count": null,
   "metadata": {},
   "outputs": [],
   "source": [
    "kernel_medium = ???\n",
    "kernel_large = ???"
   ]
  },
  {
   "cell_type": "markdown",
   "metadata": {},
   "source": [
    "Visualize the new kernels by looking at their phase. Zoom in (in interactive mode) to identify aliasing!"
   ]
  },
  {
   "cell_type": "code",
   "execution_count": null,
   "metadata": {},
   "outputs": [],
   "source": [
    "plt.figure()\n",
    "plt.subplot(121)\n",
    "plt.imshow(???, cmap='hsv')\n",
    "plt.title('Medium distance')\n",
    "plt.colorbar(orientation=\"horizontal\")\n",
    "plt.subplot(122)\n",
    "plt.imshow(???, cmap='hsv')\n",
    "plt.title('Large distance')\n",
    "plt.colorbar(orientation=\"horizontal\")"
   ]
  },
  {
   "cell_type": "markdown",
   "metadata": {},
   "source": [
    "Propagate the pure-phase wavefront `w` (from the beginning) by the medium and large distances and compute the resulting intensities."
   ]
  },
  {
   "cell_type": "code",
   "execution_count": null,
   "metadata": {},
   "outputs": [],
   "source": [
    "out_medium = ???\n",
    "out_large = ???\n",
    "\n",
    "I_medium = ???\n",
    "I_large = ???"
   ]
  },
  {
   "cell_type": "code",
   "execution_count": null,
   "metadata": {},
   "outputs": [],
   "source": [
    "plt.figure()\n",
    "plt.subplot(121)\n",
    "plt.imshow(I_medium[256:768,256:768])\n",
    "plt.colorbar(orientation=\"horizontal\")\n",
    "plt.title(\"Medium distance\")\n",
    "plt.subplot(122)\n",
    "plt.imshow(I_large[256:768,256:768])\n",
    "plt.colorbar(orientation=\"horizontal\")\n",
    "plt.title(\"Large distance\")"
   ]
  },
  {
   "cell_type": "markdown",
   "metadata": {},
   "source": [
    "## E) Fresnel numbers"
   ]
  },
  {
   "cell_type": "markdown",
   "metadata": {},
   "source": [
    "Compute the Fresnel number for all propagation distances. \n",
    "\n",
    "First, fill in the general function for the Fresnel number. Then estimate the aperture size by the extent of the TUM logo in pixels and the pixel size. Finally, use the function for the three propagation distances."
   ]
  },
  {
   "cell_type": "code",
   "execution_count": null,
   "metadata": {},
   "outputs": [],
   "source": [
    "def F(a, lambd, z):\n",
    "    \"\"\"\\\n",
    "    Compute the Fresnel number from aperture size `a`, wavelength `lambd`\n",
    "    and propagation distance `z`.\n",
    "    \"\"\"\n",
    "    return ???\n",
    "\n",
    "aperture_size = ???\n",
    "\n",
    "F_close = F(aperture_size, wlen, prop_dist)\n",
    "F_medium = F(aperture_size, wlen, prop_dist_medium)\n",
    "F_large = F(aperture_size, wlen, prop_dist_large)"
   ]
  },
  {
   "cell_type": "markdown",
   "metadata": {},
   "source": [
    "Plot the Fresnel numbers over the propagation distances. \n",
    "\n",
    "* What is the condition for using Fresnel propagation?\n",
    "* Is the largest distance in the valid regime?"
   ]
  },
  {
   "cell_type": "code",
   "execution_count": null,
   "metadata": {},
   "outputs": [],
   "source": [
    "plt.figure()\n",
    "plt.loglog(prop_dist, F_close, \"o\", label=\"Close\")\n",
    "plt.loglog(prop_dist_medium, F_medium, \"o\", label=\"Medium\")\n",
    "plt.loglog(prop_dist_large, F_large, \"o\", label=\"Large\")\n",
    "plt.xlabel(\"Progagation distance [m]\")\n",
    "plt.ylabel(\"Fresnel number F\")\n",
    "plt.grid()\n",
    "plt.legend()"
   ]
  },
  {
   "cell_type": "markdown",
   "metadata": {},
   "source": [
    "For $F \\ll 1$, i.e. the propagation distance being much larger than the aperture size, we use [Fraunhofer diffraction](https://en.wikipedia.org/wiki/Fraunhofer_diffraction) instead of Fresnel propagation. You will learn about it in the next lecture."
   ]
  }
 ],
 "metadata": {
  "kernelspec": {
   "display_name": "Python 3",
   "language": "python",
   "name": "python3"
  },
  "language_info": {
   "codemirror_mode": {
    "name": "ipython",
    "version": 3
   },
   "file_extension": ".py",
   "mimetype": "text/x-python",
   "name": "python",
   "nbconvert_exporter": "python",
   "pygments_lexer": "ipython3",
   "version": "3.8.8"
  }
 },
 "nbformat": 4,
 "nbformat_minor": 2
}
