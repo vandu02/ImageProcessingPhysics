{
 "cells": [
  {
   "cell_type": "markdown",
   "metadata": {},
   "source": [
    "01.02.2021\n",
    "\n",
    "### Image Processing in Physics\n",
    "#### Julia Herzen, Klaus Achterhold, Clemens Schmid. Manuel Schultheiss\n",
    "\n",
    "# Tomographic Reconstruction I\n"
   ]
  },
  {
   "cell_type": "markdown",
   "metadata": {},
   "source": [
    "This exercise will be about a very simplified implementation of tomographic\n",
    "reconstruction, using filtered backprojection.\n",
    "\n",
    "The exercise consists of three parts:\n",
    "First, you will simulate the data aquisistion in computed tomography, by\n",
    "calculating the sinogram from a given input sample slice.\n",
    "Second, you will have to apply a ramp filter to this sinogram.\n",
    "Third, you will implement a simple backprojection algorithm.\n",
    "\n",
    "If you do not manage to do one part of the exercise you can still go on by\n",
    "loading the provided .npy arrays 'sino_backup.npy' and\n",
    "'filtered_sino_backup.npy'.\n",
    "\n",
    "You need to replace the ??? in the code with the required commands."
   ]
  },
  {
   "cell_type": "code",
   "execution_count": null,
   "metadata": {},
   "outputs": [],
   "source": [
    "import numpy as np\n",
    "import scipy.ndimage as nd\n",
    "import matplotlib.pyplot as plt\n",
    "\n",
    "%matplotlib notebook\n",
    "plt.rcParams[\"image.cmap\"] = \"gray\"\n",
    "plt.rcParams[\"image.interpolation\"] = \"none\""
   ]
  },
  {
   "cell_type": "code",
   "execution_count": null,
   "metadata": {},
   "outputs": [],
   "source": [
    "def forwardproject(sample, angles):\n",
    "    \"\"\"\n",
    "    Simulate data aquisition in tomography from line projections.\n",
    "    Forwardproject a given input sample slice to obtain a simulated sinogram.\n",
    "\n",
    "    Hints\n",
    "    -----\n",
    "    Use scipy.ndimage.rotate(..., reshape=False) to simulate the sample\n",
    "    rotation.\n",
    "    Use numpy.sum() along one axis to simulate the line projection integral.\n",
    "    \"\"\"\n",
    "    sh = np.shape(sample)                # calculate shape of sample\n",
    "    Nproj = len(angles)                  # calculate number of projections\n",
    "\n",
    "    # define empty sinogram container, angles along y-axis\n",
    "    sinogram = np.zeros((Nproj, sh[1]))\n",
    "\n",
    "    # loop over all projections\n",
    "    for proj in np.arange(Nproj):\n",
    "        print(\"Simulating:     %03i/%03i\" % (proj+1, Nproj), end=\"\\r\", flush=True)\n",
    "        \n",
    "        im_rot = ???\n",
    "        sinogram[???] = ???\n",
    "        \n",
    "    return sinogram\n",
    "\n",
    "\n",
    "def filter_ramlak(sinogram):\n",
    "    \"\"\"\n",
    "    Filter a given sinogram using a ramp filter\n",
    "\n",
    "    Hints:\n",
    "    First define a ramp filter in Fourier domain (you can use np.fft.fftfreq).\n",
    "    Filter the sinogram in Fourier space using the convolution theorem.\n",
    "    \"\"\"\n",
    "\n",
    "    Nproj, Npix = np.shape(sinogram)\n",
    "\n",
    "    # Generate basic ramp filter (hint: there is the function np.fft.fftfreq.\n",
    "    # Try it and see what it does. Watch out for a possible fftshift)\n",
    "    ramp_filter = ???\n",
    "\n",
    "    # filter the sinogram in Fourier space in detector pixel direction\n",
    "    # Use the np.fft.fft along the axis=1\n",
    "    sino_ft = ???\n",
    "\n",
    "    # Multiply the ramp filter onto the 1D-FT of the sinogram and transform it\n",
    "    # back into spatial domain\n",
    "    sino_filtered = ???\n",
    "\n",
    "    return sino_filtered\n",
    "\n",
    "\n",
    "\n",
    "\n",
    "def backproject(sinogram, angles):\n",
    "    \"\"\"\n",
    "    Backproject a given sinogram.\n",
    "    \n",
    "    Hints:\n",
    "    Perform the backprojection inversely to the way we did the\n",
    "    forwardprojection, by smearing each projection in the sinogram back along\n",
    "    the axis that you summed before in forwardproject(),\n",
    "    then rotating the resulting backprojection\n",
    "    to get the right backprojection angle.\n",
    "    \n",
    "    Use scipy.ndimage.rotate(..., ..., reshape=False)\n",
    "    \"\"\"\n",
    "    \n",
    "    # define empty container for reconstruction of sample\n",
    "    Nproj, Npix = np.shape(sinogram)\n",
    "    reconstruction = np.zeros((Npix, Npix))\n",
    "\n",
    "    # loop over all projections\n",
    "    for proj in np.arange(Nproj): \n",
    "        print(\"Reconstructing: %03i/%i\" % (proj+1, Nproj), end=\"\\r\", flush=True)\n",
    "\n",
    "        backprojection = np.tile(sinogram[proj, :], (Npix, 1))\n",
    "        backprojection /= Npix  # Just normalization\n",
    "        rotated_backprojection = ???\n",
    "\n",
    "        # Add the rotated backprojection\n",
    "        reconstruction += ???\n",
    "\n",
    "    return reconstruction\n"
   ]
  },
  {
   "cell_type": "markdown",
   "metadata": {},
   "source": [
    "## Part 1: Forward and Backprojection\n",
    "\n",
    "Read in sample data of a human head. In reality, this data is unknown and what you are\n",
    "looking for when performing a CT scan."
   ]
  },
  {
   "cell_type": "code",
   "execution_count": null,
   "metadata": {},
   "outputs": [],
   "source": [
    "sample = plt.imread('Head_CT_scan.jpg')"
   ]
  },
  {
   "cell_type": "markdown",
   "metadata": {},
   "source": [
    "Define array containing the projection angles. We want equidistant sampling over $360^\\circ$. \n",
    "\n",
    "(Don't include $0^\\circ = 360^\\circ$ twice!)"
   ]
  },
  {
   "cell_type": "code",
   "execution_count": null,
   "metadata": {},
   "outputs": [],
   "source": [
    "Nangles = 301\n",
    "angles = ???"
   ]
  },
  {
   "cell_type": "markdown",
   "metadata": {},
   "source": [
    "Simulate the process of tomographic data acquisition by line projections."
   ]
  },
  {
   "cell_type": "code",
   "execution_count": null,
   "metadata": {},
   "outputs": [],
   "source": [
    "sino = ???\n",
    "\n",
    "# use this line if you do not manage the forward projection\n",
    "# sino = np.load('sino_backup.npy')"
   ]
  },
  {
   "cell_type": "markdown",
   "metadata": {},
   "source": [
    "Perform the filtered backprojection by \n",
    "\n",
    "1. Filtering the projections\n",
    "2. Performing backprojection with the filtered projections"
   ]
  },
  {
   "cell_type": "code",
   "execution_count": null,
   "metadata": {},
   "outputs": [],
   "source": [
    "# filter the sinogram with the ramp filter (or some other filter)\n",
    "filtered_sino = ???\n",
    "\n",
    "# use this line if you do not manage the filtering\n",
    "# filtered_sino = np.load('filtered_sino_backup.npy')\n",
    "\n",
    "# backprojection\n",
    "reco = ???"
   ]
  },
  {
   "cell_type": "code",
   "execution_count": null,
   "metadata": {},
   "outputs": [],
   "source": [
    "plt.figure()\n",
    "plt.subplot(221)\n",
    "plt.imshow(sample)\n",
    "plt.subplot(222)\n",
    "plt.imshow(sino)\n",
    "plt.subplot(223)\n",
    "plt.imshow(filtered_sino)\n",
    "plt.subplot(224)\n",
    "plt.imshow(reco, vmin=0.)"
   ]
  },
  {
   "cell_type": "markdown",
   "metadata": {},
   "source": [
    "## Part 2: Image Artifacts\n",
    "\n",
    "We simulate various kinds of artifacts on the projections and evaluate the result in the reconstruction."
   ]
  },
  {
   "cell_type": "markdown",
   "metadata": {},
   "source": [
    "### Artifact 1 - Hot / Dead Pixel\n",
    "\n",
    "Single pixels on detector may not respond to x-rays. \n",
    "\n",
    "They appear as completely bright (\"hot\") or dark (\"dead\"), independent of the measurement. Because of the projection filter effectively being a spatial derivative (look at [Fourier transform identities](https://en.wikipedia.org/wiki/Fourier_transform#Functional_relationships,_one-dimensional)), a single broken pixel has a large effect on the reconstruction.\n",
    "\n",
    "Set one pixel in the sinogram to 0 for all angles and see how the reconstruction changes."
   ]
  },
  {
   "cell_type": "code",
   "execution_count": null,
   "metadata": {},
   "outputs": [],
   "source": [
    "Nangles = 301\n",
    "angles = np.linspace(0, 360, Nangles, False)\n",
    "\n",
    "sino = forwardproject(sample, angles)\n",
    "\n",
    "# simulate a dead pixel in the detector line\n",
    "sino[???] = 0\n",
    "\n",
    "# filter the sinogram with the ramp filter and reconstruct it\n",
    "filtered_sino = filter_ramlak(sino)\n",
    "reco = backproject(filtered_sino, angles)\n",
    "\n",
    "plt.figure()\n",
    "plt.suptitle('Dead pixel')\n",
    "plt.subplot(221)\n",
    "plt.imshow(sample)\n",
    "plt.subplot(222)\n",
    "plt.imshow(sino)\n",
    "plt.subplot(223)\n",
    "plt.imshow(filtered_sino)\n",
    "plt.subplot(224)\n",
    "plt.imshow(reco, vmin=sample.min(), vmax=sample.max())"
   ]
  },
  {
   "cell_type": "markdown",
   "metadata": {},
   "source": [
    "### Artifact 2 - Center shift\n",
    "\n",
    "Intrinsically, tomography assumes that the rotation axis is in the center of\n",
    "each projection. If this is not the case, each projection is shifted left or\n",
    "right with respect to the optical axis. This is called center shift.\n",
    "\n",
    "In principle each projection can have its own center shift. Here we simulate the same centershift on all projections, which causes blurring in the reconstruction."
   ]
  },
  {
   "cell_type": "code",
   "execution_count": null,
   "metadata": {},
   "outputs": [],
   "source": [
    "Nangles = 301\n",
    "angles = np.linspace(0, 360, Nangles, False)\n",
    "\n",
    "sino = forwardproject(sample, angles)\n",
    "\n",
    "# shift the sinogram by a few pixels (~2) or pad the detector either to the\n",
    "# left or right side with 0's.\n",
    "sino = ???\n",
    "\n",
    "# filter the sinogram with the ramp filter and reconstruct it\n",
    "filtered_sino = filter_ramlak(sino)\n",
    "reco = backproject(filtered_sino, angles)\n",
    "\n",
    "plt.figure()\n",
    "plt.suptitle('Center Shift')\n",
    "plt.subplot(221)\n",
    "plt.imshow(sample)\n",
    "plt.subplot(222)\n",
    "plt.imshow(sino)\n",
    "plt.subplot(223)\n",
    "plt.imshow(filtered_sino)\n",
    "plt.subplot(224)\n",
    "plt.imshow(reco, vmin=0)"
   ]
  },
  {
   "cell_type": "markdown",
   "metadata": {},
   "source": [
    "## Artifact 3 - Few angles / undersampling\n",
    "\n",
    "When using fewer projections than usual, the image quality decreases. \n",
    "\n",
    "From the Nyquist limit, we need at least $N_x \\cdot \\frac{\\pi}{2}$ projection angles, with $N_x$ being the number of pixels on the projections in x direction. If the number of angles is smaller, we see undersampling artifacts in the reconstruction in the form of radial lines."
   ]
  },
  {
   "cell_type": "code",
   "execution_count": null,
   "metadata": {},
   "outputs": [],
   "source": [
    "Nangles = ???\n",
    "angles = np.linspace(0, 360, Nangles, False)\n",
    "\n",
    "sino = forwardproject(sample, angles)\n",
    "\n",
    "# filter the sinogram with the ramp filter and reconstruct it\n",
    "filtered_sino = filter_ramlak(sino)\n",
    "reco = backproject(filtered_sino, angles)\n",
    "\n",
    "plt.figure()\n",
    "plt.suptitle('Undersampling')\n",
    "plt.subplot(221)\n",
    "plt.imshow(sample)\n",
    "plt.subplot(222)\n",
    "plt.imshow(sino)\n",
    "plt.subplot(223)\n",
    "plt.imshow(filtered_sino)\n",
    "plt.subplot(224)\n",
    "plt.imshow(reco, vmin=0.)"
   ]
  },
  {
   "cell_type": "markdown",
   "metadata": {},
   "source": [
    "## Artifact 4 - Missing projections to tomosynthese\n",
    "\n",
    "Another angular sampling problem is the angular sampling not being distributed over the full $360^\\circ$. Colloquially this means we are missing some angle wedge completely. Deploying a naive filtered backprojection results in artifacts in the reconstruction.\n",
    "\n",
    "Replace the first 100 projections with zeros to emulate missing angles."
   ]
  },
  {
   "cell_type": "code",
   "execution_count": null,
   "metadata": {},
   "outputs": [],
   "source": [
    "Nangles = 301\n",
    "angles = np.linspace(0, 180, Nangles, False)\n",
    "\n",
    "sino = forwardproject(sample, angles)\n",
    "\n",
    "# simulate one or more missing projections (e.g. replace with zeros) up to a\n",
    "# missing projection wedge\n",
    "sino[???] = 0\n",
    "\n",
    "# filter the sinogram with the ramp filter and reconstruct it\n",
    "filtered_sino = filter_ramlak(sino)\n",
    "reco = backproject(filtered_sino, angles)\n",
    "\n",
    "plt.figure()\n",
    "plt.suptitle('Missing projections')\n",
    "plt.subplot(221)\n",
    "plt.imshow(sample)\n",
    "plt.subplot(222)\n",
    "plt.imshow(sino)\n",
    "plt.subplot(223)\n",
    "plt.imshow(filtered_sino)\n",
    "plt.subplot(224)\n",
    "plt.imshow(reco, vmin=0.)"
   ]
  },
  {
   "cell_type": "markdown",
   "metadata": {},
   "source": [
    "## Artifact 5 - Noise\n",
    "\n",
    "The conventional filtered backprojection assumes noise-free projections and is analytically exact only in that case. For a real detector in finite scan time, we will always see some degree of statistical noise which propagates into the reconstruction.\n",
    "\n",
    "Add some Gaussian, white noise to the projections/sinogram. Look at the values of the original sinogram: The magnitude of the line integrals scales with number of pixels, so the values are rather large. Use $\\sigma = 500$ for the noise."
   ]
  },
  {
   "cell_type": "code",
   "execution_count": null,
   "metadata": {},
   "outputs": [],
   "source": [
    "Nangles = 301\n",
    "angles = np.linspace(0, 360, Nangles, False)\n",
    "\n",
    "sino = forwardproject(sample, angles)\n",
    "\n",
    "# simulate noise\n",
    "sino += ???\n",
    "\n",
    "# filter the sinogram with the ramp filter and reconstruct it\n",
    "filtered_sino = filter_ramlak(sino)\n",
    "reco = backproject(filtered_sino, angles)\n",
    "\n",
    "plt.figure()\n",
    "plt.suptitle('Noisy projections')\n",
    "plt.subplot(221)\n",
    "plt.imshow(sample)\n",
    "plt.subplot(222)\n",
    "plt.imshow(sino)\n",
    "plt.subplot(223)\n",
    "plt.imshow(filtered_sino)\n",
    "plt.subplot(224)\n",
    "plt.imshow(reco, vmin=0)"
   ]
  }
 ],
 "metadata": {
  "kernelspec": {
   "display_name": "Python 3",
   "language": "python",
   "name": "python3"
  },
  "language_info": {
   "codemirror_mode": {
    "name": "ipython",
    "version": 3
   },
   "file_extension": ".py",
   "mimetype": "text/x-python",
   "name": "python",
   "nbconvert_exporter": "python",
   "pygments_lexer": "ipython3",
   "version": "3.8.8"
  }
 },
 "nbformat": 4,
 "nbformat_minor": 2
}
