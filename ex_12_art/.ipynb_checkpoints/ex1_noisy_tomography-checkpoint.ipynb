{
 "cells": [
  {
   "cell_type": "markdown",
   "metadata": {},
   "source": [
    "7.2.2021\n",
    "\n",
    "### Image Processing in Physics\n",
    "\n",
    "#### Julia Herzen, Klaus Achterhold, Clemens Schmid, Manuel Schultheiss\n",
    "\n",
    "# Exercise 1: Noisy Tomography\n",
    "\n",
    "This exercise will be about tomographic reconstruction of noisy data using \n",
    "different filters with filtered backprojection.\n",
    "\n",
    "\n",
    "The exercise consists of two  parts:\n",
    "\n",
    "* First, you need to create both filters, a Ramlak and a Hamming filter.\n",
    "The Hamming filter has a reduced high-frequency response. This assumes that the \n",
    "very high frequencies mostly contain noise. The Hamming filter is defined as : $H(u) = 0.54 + 0.46 \\cos(2 \\pi u)$ with $u$ being \n",
    "the frequencies in Fourier space. It has to be multiplied on top of the usual ramp filter.\n",
    "(The original Hamming function has a minus in it (not a plus), but we have to\n",
    "keep the low frequencies. Therefore, we changed the sign, corresponding to a\n",
    "wrapping.)\n",
    "* Second, you will reconstruct the given noisy sinogram with both reconstruction\n",
    "filter. Compare the reconstructions and their noise standard deviation in \n",
    "corresponding regions.\n",
    "\n",
    "You need to replace the `???` in the code with the required commands."
   ]
  },
  {
   "cell_type": "code",
   "execution_count": 1,
   "metadata": {},
   "outputs": [],
   "source": [
    "import numpy as np\n",
    "import scipy.ndimage as nd\n",
    "import matplotlib.pyplot as plt\n",
    "\n",
    "%matplotlib notebook\n",
    "plt.rcParams[\"image.cmap\"] = \"gray\"\n",
    "plt.rcParams[\"image.interpolation\"] = \"none\""
   ]
  },
  {
   "cell_type": "markdown",
   "metadata": {},
   "source": [
    "Define a function for performing the backprojection."
   ]
  },
  {
   "cell_type": "code",
   "execution_count": 2,
   "metadata": {},
   "outputs": [],
   "source": [
    "def backproject(sinogram, angles):\n",
    "    \"\"\"\n",
    "    Backproject a given sinogram.\n",
    "    Hints\n",
    "    -----\n",
    "    Perform the backprojection inversely to the way we did the\n",
    "    forwardprojection, by smearing each projection in the sinogram back along\n",
    "    the axis that you summed before in forwardproject(),\n",
    "    then rotating the resulting backprojection\n",
    "    to get the right backprojection angle.\n",
    "    Use scipy.ndimage.rotate(..., ..., reshape=False)\n",
    "    \"\"\"\n",
    "    # calculate number of projections, and pixels\n",
    "    nproj, npix = sinogram.shape\n",
    "    \n",
    "    # define empty container for reconstruction of sample\n",
    "    reconstruction = np.zeros([npix, npix], dtype=sinogram.dtype)\n",
    "\n",
    "    # loop over all projections\n",
    "    for i, ang in enumerate(angles):\n",
    "        print(\"Reconstructing: %03i / %i\" % (i + 1, nproj), end=\"\\r\", flush=True)\n",
    "\n",
    "        backprojection = np.tile(sinogram[i], (npix, 1))\n",
    "        backprojection /= nproj  # Just normalization\n",
    "\n",
    "        rotated_backprojection = nd.rotate(backprojection, -angles, reshape=False)\n",
    "\n",
    "        # Add the rotated backprojection\n",
    "        reconstruction += rotated_backprojection\n",
    "\n",
    "    return reconstruction"
   ]
  },
  {
   "cell_type": "markdown",
   "metadata": {},
   "source": [
    "First, we read a noisy sinogram:"
   ]
  },
  {
   "cell_type": "code",
   "execution_count": null,
   "metadata": {},
   "outputs": [],
   "source": [
    "sinogram = np.load('noisy_sino.npy')\n",
    "\n",
    "# Get the number of angles an the length of the detector from the sinogram.\n",
    "nproj, npix = ???\n",
    "\n",
    "# Define the vector containing the projection angles. They were sampled \n",
    "# equidistantly over a 360° rotation.\n",
    "angles = np.linspace(0, 360., nproj, False)"
   ]
  },
  {
   "cell_type": "code",
   "execution_count": null,
   "metadata": {},
   "outputs": [],
   "source": [
    "plt.figure()\n",
    "plt.imshow(sinogram)\n",
    "plt.title(\"Input: Noisy sinogram\")"
   ]
  },
  {
   "cell_type": "markdown",
   "metadata": {},
   "source": [
    "Next, we define the Ramlak and Hamming filters. Remember that Hamming is a product of Ramlak and the formula in the beginning."
   ]
  },
  {
   "cell_type": "code",
   "execution_count": null,
   "metadata": {},
   "outputs": [],
   "source": [
    "# Generate the basic ramp filter (hint: np.fft.fftfreq)\n",
    "freq = ???\n",
    "ramlak_filter = np.pi * np.abs(freq)\n",
    "\n",
    "# Generate the Hamming filter from adapting the ramp filter.\n",
    "hamming_filter = ???"
   ]
  },
  {
   "cell_type": "markdown",
   "metadata": {},
   "source": [
    "Plot both filters in one graph to investigate their frequency response."
   ]
  },
  {
   "cell_type": "code",
   "execution_count": null,
   "metadata": {},
   "outputs": [],
   "source": [
    "plt.figure()\n",
    "plt.plot(np.fft.fftshift(freq), np.fft.fftshift(ramlak_filter), label='Ramlak')\n",
    "plt.plot(np.fft.fftshift(freq), np.fft.fftshift(hamming_filter), label='Hamming')\n",
    "plt.grid(True)\n",
    "plt.legend()"
   ]
  },
  {
   "cell_type": "markdown",
   "metadata": {},
   "source": [
    "Perform the reconstructions for both filters by applying them to the projections and performing the backprojection."
   ]
  },
  {
   "cell_type": "code",
   "execution_count": null,
   "metadata": {},
   "outputs": [],
   "source": [
    "# Transfer the sinogram to Fourier space in detector pixel direction.\n",
    "# Use the np.fft.fft along the axis=1\n",
    "sino_ft = np.fft.fft(sinogram, axis=1)\n",
    "\n",
    "# Multiply the ramp filter onto the 1D-FT of the sinogram and transform it\n",
    "# back into spatial domain. Also use the Hamming filter.\n",
    "sino_ramlak = ???\n",
    "sino_hamming = ???\n",
    "\n",
    "# reconstruct the image from its filtered sinogram\n",
    "reco_ramlak = ???\n",
    "reco_hamming = ???"
   ]
  },
  {
   "cell_type": "markdown",
   "metadata": {},
   "source": [
    "Visualize the filtered sinograms and reconstructions of both filters. The visual noise level is very high for the Ramlak filter while the hamming sinogram and reconstruction look smooth.\n",
    "\n",
    "But lower noise level leads to a decreased spatial resolution. In the end, what filter to use depends on the application and most importantly on the person looking at the data -- for this image it would be a radiologist."
   ]
  },
  {
   "cell_type": "code",
   "execution_count": null,
   "metadata": {},
   "outputs": [],
   "source": [
    "plt.figure()\n",
    "plt.subplot(221)\n",
    "plt.imshow(sino_ramlak)\n",
    "plt.title(\"Ramlak\")\n",
    "plt.subplot(222)\n",
    "plt.imshow(sino_hamming)\n",
    "plt.title(\"Hamming\")\n",
    "plt.subplot(223)\n",
    "plt.imshow(reco_ramlak)\n",
    "plt.subplot(224)\n",
    "plt.imshow(reco_hamming)"
   ]
  },
  {
   "cell_type": "markdown",
   "metadata": {},
   "source": [
    "A somewhat quantitative measure of image quality is the Signal-to-Noise ratio (SNR). We define it as \n",
    "\n",
    "$$\n",
    "\\mathrm{SNR} = \\frac{\\mu}{\\sigma} \\,,\n",
    "$$\n",
    "\n",
    "so the mean over the standard deviation of the signal. To compare two images, we choose the same region in both images with approximately constant signal and compute the respective SNRs. Technically the SNR will be different for different regions (e.g. brain matter or bone), but here we choose a single region.\n",
    "\n",
    "Choose a homogeneous region in e.g. the bone of the skull and perform a signal to noise analysis by comparing SNRs. Which filter performs better?"
   ]
  },
  {
   "cell_type": "code",
   "execution_count": null,
   "metadata": {},
   "outputs": [],
   "source": [
    "region = np.s_[???, ???]\n",
    "region_ramlak = reco_ramlak[region]\n",
    "region_hamming = reco_hamming[region]\n",
    "\n",
    "snr_ramlak = ???\n",
    "snr_hamming = ???\n",
    "\n",
    "print(\"SNR\")\n",
    "print(\"Ramlak:  %05.2f\" % snr_ramlak)\n",
    "print(\"Hamming: %05.2f\" % snr_hamming)"
   ]
  }
 ],
 "metadata": {
  "kernelspec": {
   "display_name": "Python 3",
   "language": "python",
   "name": "python3"
  },
  "language_info": {
   "codemirror_mode": {
    "name": "ipython",
    "version": 3
   },
   "file_extension": ".py",
   "mimetype": "text/x-python",
   "name": "python",
   "nbconvert_exporter": "python",
   "pygments_lexer": "ipython3",
   "version": "3.8.8"
  }
 },
 "nbformat": 4,
 "nbformat_minor": 2
}
