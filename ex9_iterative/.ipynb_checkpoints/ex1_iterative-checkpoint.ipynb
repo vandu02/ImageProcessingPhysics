{
 "cells": [
  {
   "cell_type": "markdown",
   "metadata": {},
   "source": [
    "17.01.2021\n",
    "\n",
    "### Image Processing in Physics\n",
    "#### Julia Herzen, Klaus Achterhold, Clemens Schmid, Manuel Schultheiss\n",
    "\n",
    "# Exercise 1: Iterative phase retrieval with Fraunhofer propagation\n",
    "\n",
    "Perform iterative phase retrieval to **recover the phase at the\n",
    "aperture plane** from\n",
    "* the intensity at the focal plane and\n",
    "* the known support magnitude in the aperture plane!"
   ]
  },
  {
   "cell_type": "code",
   "execution_count": null,
   "metadata": {},
   "outputs": [],
   "source": [
    "import numpy as np\n",
    "import matplotlib.pylab as plt\n",
    "\n",
    "%matplotlib inline\n",
    "plt.rcParams[\"image.cmap\"] = \"gray\"\n",
    "plt.rcParams[\"image.interpolation\"] = \"none\""
   ]
  },
  {
   "cell_type": "markdown",
   "metadata": {},
   "source": [
    "## The setup:\n",
    "\n",
    "An aperture is illuminated with a field of constant magnitude and some spatial\n",
    "variation of the phase. The field observed in the back focal plane of a lens\n",
    "behind the aperture is determined by Fraunhofer diffraction (far-field regime).\n",
    "\n",
    "The phase variation in the aperture plane is given as a sum of \"tip\" and \"tilt\" modes\n",
    "(i.e. a linear ramp) to ensure fast convergence and avoid problems with phase wrapping,\n",
    "twin images or piston offset in Part 2 of the exercise.\n",
    "\n",
    "![title](fig_iterative2.png)"
   ]
  },
  {
   "cell_type": "markdown",
   "metadata": {},
   "source": [
    "## Part 1: Calculate intensity on screen from field at aperture"
   ]
  },
  {
   "cell_type": "markdown",
   "metadata": {},
   "source": [
    "Square dimensions of phase screen:"
   ]
  },
  {
   "cell_type": "code",
   "execution_count": null,
   "metadata": {},
   "outputs": [],
   "source": [
    "N = 512"
   ]
  },
  {
   "cell_type": "markdown",
   "metadata": {},
   "source": [
    "Calculate the support constraint (magnitude at the aperture plane).\n",
    "\n",
    "Generate a round mask and make sure that the radius is 128 pixels."
   ]
  },
  {
   "cell_type": "code",
   "execution_count": null,
   "metadata": {},
   "outputs": [],
   "source": [
    "aperture = ???"
   ]
  },
  {
   "cell_type": "markdown",
   "metadata": {},
   "source": [
    "Show your aperture function:"
   ]
  },
  {
   "cell_type": "code",
   "execution_count": null,
   "metadata": {},
   "outputs": [],
   "source": [
    "plt.figure()\n",
    "plt.title('Support constraint')\n",
    "plt.imshow(aperture)"
   ]
  },
  {
   "cell_type": "markdown",
   "metadata": {},
   "source": [
    "Generate the tip & tilt zernikes:"
   ]
  },
  {
   "cell_type": "code",
   "execution_count": null,
   "metadata": {},
   "outputs": [],
   "source": [
    "y = np.arange(-N/2, N/2) + .5\n",
    "x = np.arange(-N/2, N/2) + .5\n",
    "yy, xx = np.meshgrid(y, x, indexing='ij')\n",
    "\n",
    "tip = yy / np.max(yy) \n",
    "tilt = xx / np.max(xx)"
   ]
  },
  {
   "cell_type": "markdown",
   "metadata": {},
   "source": [
    "Set the phase screen as a combination of tip and tilt:"
   ]
  },
  {
   "cell_type": "code",
   "execution_count": null,
   "metadata": {},
   "outputs": [],
   "source": [
    "screen = tip * 4. + tilt * 3."
   ]
  },
  {
   "cell_type": "markdown",
   "metadata": {},
   "source": [
    "Show aperture phase:"
   ]
  },
  {
   "cell_type": "code",
   "execution_count": null,
   "metadata": {},
   "outputs": [],
   "source": [
    "plt.figure()\n",
    "plt.title(\"Phase\")\n",
    "plt.imshow(screen, cmap=\"jet\")\n",
    "plt.colorbar()"
   ]
  },
  {
   "cell_type": "markdown",
   "metadata": {},
   "source": [
    "Calculate the scalar field at the focal plane from the scalar field at the phase screen\n",
    "via Fraunhofer propagation.\n",
    "\n",
    "Hints:\n",
    "* ``aperture`` is the magnitude and ``screen`` is the phase of\n",
    "  the (complex-valued) scalar field.\n",
    "* You may need to use ``np.fft.fftshift`` here\n",
    "* Intensity is the magnitude squared of the scalar field at the focal plane."
   ]
  },
  {
   "cell_type": "code",
   "execution_count": null,
   "metadata": {},
   "outputs": [],
   "source": [
    "field_aperture = ???\n",
    "field_focal_plane = ???\n",
    "intensity_focal_plane = ???"
   ]
  },
  {
   "cell_type": "markdown",
   "metadata": {},
   "source": [
    "Plot the far-field image (zoomed in to show the centre), together with the input parameters (the field at the aperture):"
   ]
  },
  {
   "cell_type": "code",
   "execution_count": null,
   "metadata": {},
   "outputs": [],
   "source": [
    "plt.figure(figsize=(15, 9))\n",
    "\n",
    "plt.subplot(131)\n",
    "plt.title('Support constraint')\n",
    "plt.imshow(aperture, cmap='gray', interpolation='none');\n",
    "\n",
    "plt.subplot(132)\n",
    "plt.title('Aperture phase (ground truth)')\n",
    "plt.imshow(screen * aperture, cmap='jet', interpolation='none')\n",
    "\n",
    "plt.subplot(133)\n",
    "plt.title('Intensity at the screen')\n",
    "size = 64\n",
    "left, right = (N - size) // 2, (N + size) // 2\n",
    "plt.imshow(intensity_focal_plane[left:right, left:right], extent=[left,right,left,right])"
   ]
  },
  {
   "cell_type": "markdown",
   "metadata": {},
   "source": [
    "## Part 2: Determine phase at aperture plane from intensity at the focal plane\n",
    "\n",
    "Now, we use the type of calculation from Part 1 to solve the\n",
    "\"[phase problem](https://en.wikipedia.org/wiki/Phase_problem)\":\n",
    "\n",
    "In a real experiment, we know the intensity at the focal plane\n",
    "and the shape of the aperture, and want to determine\n",
    "the phase of the field at the aperture.\n",
    "\n",
    "If the complex-valued field at the focal plane is known, the field at the aperture plane\n",
    "can be easily determined by inverting the calculation from Part 1, i.e. by an *inverse*\n",
    "Fourier transform of the field at the focal plane.\n",
    "\n",
    "However, only the intensity, which is the magnitude squared of the complex-valued field,\n",
    "is directly measurable. The phase of the field at the focal plane is thus unknown.\n",
    "\n",
    "Therefore, we require a more complicated phase retrieval method:\n",
    "\n",
    "We propagate backwards and forwards between the two planes (see Figure above), while\n",
    "maintaining two constraints:\n",
    "1. The magnitude squared of the field in the focal plane must be equal to the measured intensity\n",
    "2. The magnitude of the field in the aperture plane must be zero outside of the aperture.\n",
    "\n",
    "The approach is thus:\n",
    "0. Guess a field in the focal plane\n",
    "1. Apply constraint #1 to field in the focal plane\n",
    "2. Propagate backwards to aperture plane\n",
    "3. Apply constraint #2 to field in aperture plane\n",
    "4. Propagate forwards to focal plane\n",
    "5. Go to step 2.\n",
    "\n",
    "This is repeated either for a fixed number of iterations (which is what we do)\n",
    "or until the result (almost) doesn't change anymore.\n",
    "Meanwhile, we also track the difference between\n",
    "our guess for field magnitude and true magnitude."
   ]
  },
  {
   "cell_type": "markdown",
   "metadata": {},
   "source": [
    "Number of loops (iterations) to run the phase retrieval\n",
    "If your code doesn't converge in < 50 iterations, there is something wrong! "
   ]
  },
  {
   "cell_type": "code",
   "execution_count": null,
   "metadata": {},
   "outputs": [],
   "source": [
    "nloops = 50"
   ]
  },
  {
   "cell_type": "markdown",
   "metadata": {},
   "source": [
    "Calculate the magnitude of the field, i.e. the square root of the intensity, at the focal plane from the previously determined intensity:"
   ]
  },
  {
   "cell_type": "code",
   "execution_count": null,
   "metadata": {},
   "outputs": [],
   "source": [
    "magnitude_focal_plane = ???"
   ]
  },
  {
   "cell_type": "markdown",
   "metadata": {},
   "source": [
    "Initial guess for the (complex-valued) scalar field at the focal plane:"
   ]
  },
  {
   "cell_type": "code",
   "execution_count": null,
   "metadata": {},
   "outputs": [],
   "source": [
    "field_focal_plane = magnitude_focal_plane * np.exp(1.j * np.zeros((N, N)))"
   ]
  },
  {
   "cell_type": "markdown",
   "metadata": {},
   "source": [
    "Create empty arrays to store the values for the errors:"
   ]
  },
  {
   "cell_type": "code",
   "execution_count": null,
   "metadata": {},
   "outputs": [],
   "source": [
    "errors_aperture = np.zeros(nloops)\n",
    "errors_focal = np.zeros(nloops)"
   ]
  },
  {
   "cell_type": "markdown",
   "metadata": {},
   "source": [
    "Perform the iterative estimation of the phase map at the aperture:"
   ]
  },
  {
   "cell_type": "code",
   "execution_count": null,
   "metadata": {},
   "outputs": [],
   "source": [
    "from IPython import display\n",
    "\n",
    "for loop in range(nloops):\n",
    "    \n",
    "    # Calculate the field at the aperture from the focal plane\n",
    "    # using Fraunhofer (ifft2). May need np.fft.ifftshift to undo\n",
    "    # the previously applied np.fft.fftshift (see variable `field_screen` above)\n",
    "    field_aperture = ???\n",
    "\n",
    "    # Enforce the support constraint in the aperture plane\n",
    "    # i.e. zero all the points outside the known extent of the aperture\n",
    "    field_aperture = ???\n",
    "\n",
    "    # Calculate the error in the aperture plane as the\n",
    "    # difference between the amplitudes within the aperture:\n",
    "    errors_aperture[loop] = ???\n",
    "\n",
    "    # Calculate the field at the focal plane from the aperture plane\n",
    "    # using Fraunhofer (fft2). May need an fftshift here!\n",
    "    field_focal_plane = ???\n",
    "\n",
    "    # Calculate the error in the focal plane as the\n",
    "    # difference between the estimated magnitude and known magnitude\n",
    "    errors_focal[loop] = ???\n",
    "    \n",
    "    # Enforce the magnitude constraint at the focal plane.\n",
    "    # Do so by combining the phase of `focal_plane_field` with the known magnitude\n",
    "    field_focal_plane = ???\n",
    "    \n",
    "    plt.figure(figsize=(15, 6))\n",
    "    display.clear_output(wait=True)\n",
    "    \n",
    "    # Plot the results from the current iteration:\n",
    "    plt.suptitle('Iteration #%02d' % loop)\n",
    "    plt.subplot(131)\n",
    "    plt.title('Magnitude aperture plane')\n",
    "    plt.imshow(np.abs(field_aperture), cmap='gray')\n",
    "    plt.subplot(132)\n",
    "    plt.title('Phase aperture plane')\n",
    "    plt.imshow(np.angle(field_aperture) * aperture, cmap='jet')\n",
    "    plt.subplot(133)\n",
    "    plt.title('Magnitude focal plane')\n",
    "    plt.imshow(np.abs(field_focal_plane)[left:right, left:right],\n",
    "               extent=(left, right, left, right))\n",
    "    \n",
    "    # Pause between iteration steps so you can see the incremental change:\n",
    "    if loop < 10:\n",
    "        plt.pause(0.5)\n",
    "    else:\n",
    "        plt.pause(0.001)"
   ]
  },
  {
   "cell_type": "markdown",
   "metadata": {},
   "source": [
    "Plot the figures and compare with the lecture slides. We see that the aperture phase converged nicely, while the aperture magnitude has some remaining cloudy variations. "
   ]
  },
  {
   "cell_type": "code",
   "execution_count": null,
   "metadata": {
    "scrolled": true
   },
   "outputs": [],
   "source": [
    "plt.figure(figsize=(15, 6))\n",
    "plt.subplot(131)\n",
    "plt.title('Magnitude aperture plane')\n",
    "plt.imshow(np.abs(field_aperture) * aperture)\n",
    "\n",
    "plt.subplot(132)\n",
    "plt.title('Phase aperture plane')\n",
    "plt.imshow(np.angle(field_aperture) * aperture, cmap='jet')\n",
    "\n",
    "plt.subplot(133)\n",
    "plt.title('Magnitude focal plane')\n",
    "plt.imshow(np.abs(field_focal_plane)[left:right, left:right],\n",
    "           extent=(left, right, left, right))"
   ]
  },
  {
   "cell_type": "markdown",
   "metadata": {},
   "source": [
    "Look at the evolution of the error in aperture and focal plane. At first the descent is very steep but it flattens out over time. You can see from the remaining slope that we are not fully converged yet, but for the visual quality in the scope of this exercise it's sufficient."
   ]
  },
  {
   "cell_type": "code",
   "execution_count": null,
   "metadata": {
    "scrolled": false
   },
   "outputs": [],
   "source": [
    "plt.figure(figsize=(12, 6))\n",
    "plt.subplot(121)\n",
    "plt.semilogy(errors_aperture)\n",
    "plt.xlabel('Iteration')\n",
    "plt.ylabel('Error')\n",
    "plt.title('Error reduction - Aperture plane')\n",
    "\n",
    "plt.subplot(122)\n",
    "plt.semilogy(errors_focal)\n",
    "plt.xlabel('Iteration')\n",
    "plt.ylabel('Error')\n",
    "plt.title('Error reduction - Focal plane')\n",
    "\n",
    "plt.tight_layout()"
   ]
  },
  {
   "cell_type": "markdown",
   "metadata": {},
   "source": [
    "## Part 3: Beam block\n",
    "\n",
    "With a real detector we could not measure the far-field intensity directly because the central peak is very bright. Instead we place a beam block in the center, blocking the bright spot. ([Further reading](https://www.nature.com/articles/s41566-017-0072-5) with comparison to Ptychography)\n",
    "\n",
    "This prevents us from using the information in the center. After adapting the optimization algorithm, we will see that we can still reconstruct the aperture magnitude and phase. \n",
    "\n",
    "The bright spot is not perfectly in the center in our example. Why?   \n",
    "(Hint: Look at the aperture phase and think of last week's exercise about far field propagation ;-) )"
   ]
  },
  {
   "cell_type": "markdown",
   "metadata": {},
   "source": [
    "First, we emulate the measured intensity with a beam block in the center. We choose a size of 5x5 pixels. Here, this size is quite arbitrary, but in reality we have to take \n",
    "\n",
    "1. the exposure time \n",
    "2. the dynamic range of our detector \n",
    "3. the necessary frequency region to recover our sample \n",
    "\n",
    "into account. (3) is interesting, as we are effectively blocking the low frequency information. For realistic samples, we expect the visual information to be represented mainly in the medium frequency range.\n",
    "\n",
    "Define an NxN array which blocks the central 5x5 pixels:"
   ]
  },
  {
   "cell_type": "code",
   "execution_count": null,
   "metadata": {},
   "outputs": [],
   "source": [
    "blocksize = 5\n",
    "beam_block = ???\n",
    "\n",
    "intensity_focal_plane_block = beam_block * intensity_focal_plane"
   ]
  },
  {
   "cell_type": "code",
   "execution_count": null,
   "metadata": {},
   "outputs": [],
   "source": [
    "plt.figure()\n",
    "plt.imshow(intensity_focal_plane_block[left:right, left:right])\n",
    "plt.title(\"Focal place intensity with beam block\")"
   ]
  },
  {
   "cell_type": "markdown",
   "metadata": {},
   "source": [
    "We have to increase the number of iterations, because the convergence with a beam block is slower.\n",
    "\n",
    "Otherwise, create the initial arrays same as before."
   ]
  },
  {
   "cell_type": "code",
   "execution_count": null,
   "metadata": {},
   "outputs": [],
   "source": [
    "nloops = 200\n",
    "\n",
    "magnitude_focal_plane_block = ???\n",
    "field_focal_plane_block = magnitude_focal_plane_block * np.exp(1.j * np.zeros((N, N)))\n",
    "\n",
    "errors_aperture_block = np.zeros(nloops)\n",
    "errors_focal_block = np.zeros(nloops)"
   ]
  },
  {
   "cell_type": "markdown",
   "metadata": {},
   "source": [
    "We perform the same retrieval algorithm as before, but we have to pay attention to applying the focal plane constraint correctly: \n",
    "\n",
    "We want to apply the focal plain constraint only where have actual information. Where we blocked the beam in the center, we have measured 0's, but we don't enforce those 0's on the propagated field at focal plane. \n",
    "\n",
    "For us, this means we only write the focal plane magnitude where `beam_block` is `1`. You can achieve this with the `np.where` function. Look at its docstring: `condition` is where `beam_block` is `1`, `x` is our precomputed focal plane magnitude constraint and `y` is the propagated wave before applying the constraint."
   ]
  },
  {
   "cell_type": "code",
   "execution_count": null,
   "metadata": {},
   "outputs": [],
   "source": [
    "for loop in range(nloops):\n",
    "    \n",
    "    # Calculate the field at the aperture from the focal plane\n",
    "    # Unchanged\n",
    "    field_aperture_block = ???\n",
    "\n",
    "    # Enforce the support constraint in the aperture plane\n",
    "    # Unchanged\n",
    "    field_aperture_block = ???\n",
    "\n",
    "    # Calculate the error in the aperture plane as the\n",
    "    # Unchanged\n",
    "    errors_aperture_block[loop] = ???\n",
    "\n",
    "    # Calculate the field at the focal plane from the aperture plane\n",
    "    # Unchanged\n",
    "    field_focal_plane_block = ???\n",
    "\n",
    "    # Calculate the error in the focal plane as the\n",
    "    # Change: Ignore error inside beam block\n",
    "    errors_focal_block[loop] = ???\n",
    "    \n",
    "    # Enforce the magnitude constraint at the focal plane.\n",
    "    # Change: Don't enforce magnitude = 0 inside beam block. \n",
    "    field_focal_plane_block = np.where(???, ???, ???) * np.exp(1j * ???)\n",
    "    \n",
    "    \n",
    "    plt.figure(figsize=(15, 6))\n",
    "    display.clear_output(wait=True)\n",
    "    \n",
    "    # Plot the results from the current iteration:\n",
    "    plt.suptitle('Iteration #%02d' % loop)\n",
    "    plt.subplot(131)\n",
    "    plt.title('Magnitude aperture plane')\n",
    "    plt.imshow(np.abs(field_aperture_block), cmap='gray')\n",
    "    plt.subplot(132)\n",
    "    plt.title('Phase aperture plane')\n",
    "    plt.imshow(np.angle(field_aperture_block) * aperture, cmap='jet')\n",
    "    plt.subplot(133)\n",
    "    plt.title('Magnitude focal plane')\n",
    "    plt.imshow(np.abs(field_focal_plane_block)[left:right, left:right],\n",
    "               extent=(left, right, left, right))\n",
    "        \n",
    "    plt.pause(0.001)"
   ]
  },
  {
   "cell_type": "markdown",
   "metadata": {},
   "source": [
    "We see the optimization takes a lot longer due to the missing low frequency features, but after 200 iterations the result looks pretty similar to the ground truth.\n",
    "\n",
    "Keep in mind that this a particularly hard example: The signal we want to recover mostly consists of low frequencies. It represents a reference scan without a sample, to obtain the \"intrinsic\" phase of the setup.\n",
    "\n",
    "Let's look at the evolution of the errors."
   ]
  },
  {
   "cell_type": "code",
   "execution_count": null,
   "metadata": {},
   "outputs": [],
   "source": [
    "plt.figure(figsize=(12, 6))\n",
    "plt.subplot(121)\n",
    "plt.semilogy(errors_aperture_block, label=\"Beam block\")\n",
    "plt.semilogy(errors_aperture, label=\"No beam block\")\n",
    "plt.xlabel('Iteration')\n",
    "plt.ylabel('Error')\n",
    "plt.title('Error reduction - Aperture plane')\n",
    "plt.legend()\n",
    "\n",
    "plt.subplot(122)\n",
    "plt.semilogy(errors_focal_block, label=\"Beam block\")\n",
    "plt.semilogy(errors_focal, label=\"No beam block\")\n",
    "plt.xlabel('Iteration')\n",
    "plt.ylabel('Error')\n",
    "plt.title('Error reduction - Focal plane')\n",
    "plt.legend()\n",
    "\n",
    "plt.tight_layout()"
   ]
  },
  {
   "cell_type": "markdown",
   "metadata": {},
   "source": [
    "We see that the curve is a still very steep after 200 iterations, so we have definitely not reached convergence. If you are interested, try running with more iterations!\n",
    "\n",
    "Finally, let's compare the result to the first run without the beam block. Despite the visual similarity the error is still large. This is due to the slower convergence; for enough iterations the results should look almost the same."
   ]
  },
  {
   "cell_type": "code",
   "execution_count": null,
   "metadata": {},
   "outputs": [],
   "source": [
    "plt.figure(figsize=(15, 6))\n",
    "\n",
    "plt.subplot(131)\n",
    "plt.imshow(np.angle(field_aperture_block) * aperture, cmap='jet')\n",
    "plt.colorbar(orientation=\"horizontal\")\n",
    "plt.title(\"Aperture phase w/ beam block\")\n",
    "\n",
    "plt.subplot(132)\n",
    "plt.imshow(np.angle(field_aperture) * aperture, cmap='jet')\n",
    "plt.colorbar(orientation=\"horizontal\")\n",
    "plt.title(\"Aperture phase w/o beam block\")\n",
    "\n",
    "plt.subplot(133)\n",
    "plt.imshow((np.angle(field_aperture_block) - np.angle(field_aperture))* aperture, cmap='jet')\n",
    "plt.colorbar(orientation=\"horizontal\")\n",
    "plt.title(\"Absolute error\")"
   ]
  },
  {
   "cell_type": "code",
   "execution_count": null,
   "metadata": {},
   "outputs": [],
   "source": []
  }
 ],
 "metadata": {
  "kernelspec": {
   "display_name": "Python 3",
   "language": "python",
   "name": "python3"
  },
  "language_info": {
   "codemirror_mode": {
    "name": "ipython",
    "version": 3
   },
   "file_extension": ".py",
   "mimetype": "text/x-python",
   "name": "python",
   "nbconvert_exporter": "python",
   "pygments_lexer": "ipython3",
   "version": "3.8.8"
  }
 },
 "nbformat": 4,
 "nbformat_minor": 2
}
