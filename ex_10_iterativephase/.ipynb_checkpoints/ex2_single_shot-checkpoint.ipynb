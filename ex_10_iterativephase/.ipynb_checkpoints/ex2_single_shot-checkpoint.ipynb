{
 "cells": [
  {
   "cell_type": "markdown",
   "metadata": {},
   "source": [
    "25.01.2021\n",
    "\n",
    "Image Processing in Physics, TUM\n",
    "Julia Herzen, Klaus Achterhold, Clemens Schmid, Manuel Schultheiß\n",
    "\n",
    "\n",
    "# Exercise 2: Single-shot phase retrieval\n",
    "\n",
    "Here, we apply the grid-based phase retrieval method of M. Takeda.\n",
    "Unlike the grating-based stepping method from exercise 1, this\n",
    "method requires the acquisition of only one image, albeit at the\n",
    "expense of some resolution.\n",
    "\n",
    "The procedure is outlined below."
   ]
  },
  {
   "cell_type": "markdown",
   "metadata": {},
   "source": [
    "![title](grid.png)\n",
    "\n",
    "In the present case, we have a 2D grid, and we thus get extra\n",
    "side peaks also in vertical direction.\n",
    "\n",
    "Isolating a vertical side peak would allow us to extract vertical\n",
    "refraction angles, but we ignore that for the present exercise.\n",
    "\n",
    "The procedure is thus:\n",
    "\n",
    "1. Take Fourier transform of both image (with and without object)\n",
    "2. Cut out the frequencies around the grid frequency in x-direction\n",
    "   (i.e. a horizontal side peak)\n",
    "3. Extract the differential images (via inverse FFT and calculating\n",
    "   the phase)\n",
    "4. Correct for background phase variations"
   ]
  },
  {
   "cell_type": "code",
   "execution_count": null,
   "metadata": {},
   "outputs": [],
   "source": [
    "import numpy as np\n",
    "import matplotlib.pyplot as plt"
   ]
  },
  {
   "cell_type": "markdown",
   "metadata": {},
   "source": [
    "Load the image with the ant and the grid and the flatfield containing only\n",
    "the grid from the given files.\n",
    "\n",
    "Note the very fine superimposed grid!"
   ]
  },
  {
   "cell_type": "code",
   "execution_count": null,
   "metadata": {},
   "outputs": [],
   "source": [
    "image = np.load('grid_ant.npy')  # Grid with ant\n",
    "flatfield = np.load('grid_background.npy')  # Only grid"
   ]
  },
  {
   "cell_type": "code",
   "execution_count": null,
   "metadata": {},
   "outputs": [],
   "source": [
    "plt.figure(1, figsize=(12,12))\n",
    "plt.title('Object')\n",
    "plt.imshow(image, cmap='gray', interpolation='none')"
   ]
  },
  {
   "cell_type": "markdown",
   "metadata": {},
   "source": [
    "Take the 2D Fourier transform of both images and shift the zero frequency to\n",
    "the center:"
   ]
  },
  {
   "cell_type": "code",
   "execution_count": null,
   "metadata": {},
   "outputs": [],
   "source": [
    "image_fft = ??\n",
    "flatfield_fft = ??"
   ]
  },
  {
   "cell_type": "markdown",
   "metadata": {},
   "source": [
    "Plot the logarithm of the absolute value for the image with the ant:"
   ]
  },
  {
   "cell_type": "code",
   "execution_count": null,
   "metadata": {
    "scrolled": false
   },
   "outputs": [],
   "source": [
    "%matplotlib notebook\n",
    "# 684, 747\n",
    "plt.figure(2, figsize=(9,6))\n",
    "plt.imshow(np.log(np.abs(image_fft)), cmap='gray', interpolation='none')"
   ]
  },
  {
   "cell_type": "markdown",
   "metadata": {},
   "source": [
    "Crop the Fourier transforms to the area required to extract the phase\n",
    "gradient around the peak position of the grid in x-direction.\n",
    "\n",
    "You can do the same for the frequency peak in y-direction,\n",
    "but we will omit this in this exercise.\n",
    "Choose the section for yourself.\n",
    "\n",
    "**Hints:**\n",
    "* Use the locations of the central and side peaks in the above figure\n",
    "  to determine the cropping limits! Zoom into the previous figure\n",
    "  to obtain exact values. (For Jupyter notebook, the frontend was changed\n",
    "  so you can zoom with this button:![rectangle](rect.png).)\n",
    "* The width of the cropping area should be equal to the horizontal\n",
    "  distance of the main peaks, and the height of the area equal to\n",
    "  the vertical distance of side peak to main peak.\n",
    "* The cropping limits must be integer values!\n",
    "* Remember: `sl = np.s_[a:b, c:d]` produces a slice object `sl`, which can be\n",
    "  applied to multiple arrays: `arr1[sl]; arr2[sl]`"
   ]
  },
  {
   "cell_type": "code",
   "execution_count": null,
   "metadata": {},
   "outputs": [],
   "source": [
    "x_sidepeak = ??\n",
    "x_center = ??\n",
    "width = x_center - x_sidepeak\n",
    "y_sidepeak = ??\n",
    "y_center = ??\n",
    "height = y_center - y_sidepeak\n",
    "\n",
    "sl = np.s_[??, ??]\n",
    "image_fft_crop = image_fft[sl]\n",
    "flatfield_fft_crop = flatfield_fft[sl]"
   ]
  },
  {
   "cell_type": "markdown",
   "metadata": {},
   "source": [
    "Plot the logarithm of the absolute value of the cropped Fourier transform for\n",
    "the image with the ant.\n",
    "Make sure the highest value of the selected side peak is in the center!"
   ]
  },
  {
   "cell_type": "code",
   "execution_count": null,
   "metadata": {},
   "outputs": [],
   "source": [
    "plt.figure(3, figsize=(12,6))\n",
    "plt.subplot(121); plt.title('Side peak with object')\n",
    "plt.imshow(np.log(np.abs(image_fft_crop)), cmap='gray')\n",
    "plt.subplot(122); plt.title('Side peak, grid only')\n",
    "plt.imshow(np.log(np.abs(flatfield_fft_crop)), cmap='gray')"
   ]
  },
  {
   "cell_type": "markdown",
   "metadata": {},
   "source": [
    "Extract the phase gradients (non-quantitative) in x-direction from\n",
    "the cropped Fourier transform. Therefore, perform the inverse Fourier\n",
    "transform of the cropped image with the ant and extract the phase.\n",
    "\n",
    "**Hint:** Don't forget to apply `np.fft.ifftshift` before performing the\n",
    "inverse Fourier transform!"
   ]
  },
  {
   "cell_type": "code",
   "execution_count": null,
   "metadata": {},
   "outputs": [],
   "source": [
    "image_ifft_crop = ??\n",
    "image_phase = np.angle(image_ifft_crop)"
   ]
  },
  {
   "cell_type": "markdown",
   "metadata": {},
   "source": [
    "Do the same for the flatfield:"
   ]
  },
  {
   "cell_type": "code",
   "execution_count": null,
   "metadata": {},
   "outputs": [],
   "source": [
    "flatfield_ifft_crop = ??\n",
    "flatfield_phase = np.angle(flatfield_ifft_crop)"
   ]
  },
  {
   "cell_type": "markdown",
   "metadata": {},
   "source": [
    "Subtract the background phase gradient calculated from the grid-only image:"
   ]
  },
  {
   "cell_type": "code",
   "execution_count": null,
   "metadata": {},
   "outputs": [],
   "source": [
    "corrected = ??"
   ]
  },
  {
   "cell_type": "markdown",
   "metadata": {},
   "source": [
    "As in Ex. 1, use the `wrap_phase()` function to map all phase values of `corrected` to $[-\\pi, \\pi]$:"
   ]
  },
  {
   "cell_type": "code",
   "execution_count": null,
   "metadata": {},
   "outputs": [],
   "source": [
    "def wrap_phase(inarray):\n",
    "    outarray = np.angle(np.exp(1j * inarray))\n",
    "    return outarray\n",
    "\n",
    "corrected = ??"
   ]
  },
  {
   "cell_type": "markdown",
   "metadata": {},
   "source": [
    "Compare the results to the image given in the lecture.\n",
    "In the lecture slides, the contrast may be inverted."
   ]
  },
  {
   "cell_type": "code",
   "execution_count": null,
   "metadata": {},
   "outputs": [],
   "source": [
    "plt.figure(4, figsize=(9,6))\n",
    "plt.imshow(wrap_phase(corrected_x), cmap='gray')"
   ]
  }
 ],
 "metadata": {
  "kernelspec": {
   "display_name": "Python 3",
   "language": "python",
   "name": "python3"
  },
  "language_info": {
   "codemirror_mode": {
    "name": "ipython",
    "version": 3
   },
   "file_extension": ".py",
   "mimetype": "text/x-python",
   "name": "python",
   "nbconvert_exporter": "python",
   "pygments_lexer": "ipython3",
   "version": "3.8.8"
  }
 },
 "nbformat": 4,
 "nbformat_minor": 2
}
